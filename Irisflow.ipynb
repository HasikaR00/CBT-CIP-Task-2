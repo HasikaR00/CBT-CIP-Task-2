{
  "nbformat": 4,
  "nbformat_minor": 0,
  "metadata": {
    "colab": {
      "provenance": [],
      "authorship_tag": "ABX9TyN0QGJUGBe32yo83thEx+Ip",
      "include_colab_link": true
    },
    "kernelspec": {
      "name": "python3",
      "display_name": "Python 3"
    },
    "language_info": {
      "name": "python"
    }
  },
  "cells": [
    {
      "cell_type": "markdown",
      "metadata": {
        "id": "view-in-github",
        "colab_type": "text"
      },
      "source": [
        "<a href=\"https://colab.research.google.com/github/HasikaR00/CBT-CIP-Task-2/blob/main/Irisflow.ipynb\" target=\"_parent\"><img src=\"https://colab.research.google.com/assets/colab-badge.svg\" alt=\"Open In Colab\"/></a>"
      ]
    },
    {
      "cell_type": "code",
      "execution_count": null,
      "metadata": {
        "colab": {
          "base_uri": "https://localhost:8080/"
        },
        "id": "PBE1aA52EAO9",
        "outputId": "5196ee4c-c9a6-4d4c-ad13-76619ae768e7"
      },
      "outputs": [
        {
          "output_type": "stream",
          "name": "stdout",
          "text": [
            "Accuracy: 100.00%\n",
            "Confusion Matrix:\n",
            "[[10  0  0]\n",
            " [ 0  9  0]\n",
            " [ 0  0 11]]\n",
            "Classification Report:\n",
            "                 precision    recall  f1-score   support\n",
            "\n",
            "    Iris-setosa       1.00      1.00      1.00        10\n",
            "Iris-versicolor       1.00      1.00      1.00         9\n",
            " Iris-virginica       1.00      1.00      1.00        11\n",
            "\n",
            "       accuracy                           1.00        30\n",
            "      macro avg       1.00      1.00      1.00        30\n",
            "   weighted avg       1.00      1.00      1.00        30\n",
            "\n",
            "Enter the measurements of the iris flower:\n",
            "Sepal Length (cm): 5\n",
            "Sepal Width (cm): 3\n",
            "Petal Length (cm): 1.6\n",
            "Petal Width (cm): 0.2\n",
            "The predicted species is: Iris-setosa\n"
          ]
        }
      ],
      "source": [
        " # Step 1: Import Libraries\n",
        "import pandas as pd\n",
        "from sklearn.model_selection import train_test_split\n",
        "from sklearn.ensemble import RandomForestClassifier\n",
        "from sklearn.metrics import accuracy_score, confusion_matrix, classification_report\n",
        "\n",
        "# Step 2: Load Dataset\n",
        "# Assuming you have a CSV file named 'iris.csv'\n",
        "df = pd.read_csv('/content/Iris Flower - Iris.csv')\n",
        "\n",
        "# Step 3: Preprocess Data\n",
        "X = df[['SepalLengthCm', 'SepalWidthCm', 'PetalLengthCm', 'PetalWidthCm']]\n",
        "y = df['Species']\n",
        "\n",
        "# Step 4: Split Data\n",
        "X_train, X_test, y_train, y_test = train_test_split(X, y, test_size=0.2, random_state=42)\n",
        "\n",
        "# Step 5: Train Model\n",
        "model = RandomForestClassifier(n_estimators=100, random_state=42)\n",
        "model.fit(X_train, y_train)\n",
        "\n",
        "# Step 6: Evaluate Model\n",
        "y_pred = model.predict(X_test)\n",
        "\n",
        "# Calculate Accuracy\n",
        "accuracy = accuracy_score(y_test, y_pred)\n",
        "print(f'Accuracy: {accuracy * 100:.2f}%')\n",
        "\n",
        "# Confusion Matrix\n",
        "cm = confusion_matrix(y_test, y_pred)\n",
        "print('Confusion Matrix:')\n",
        "print(cm)\n",
        "\n",
        "# Classification Report\n",
        "report = classification_report(y_test, y_pred)\n",
        "print('Classification Report:')\n",
        "print(report)\n",
        "\n",
        "# Step 7: User Input for Prediction\n",
        "def get_user_input():\n",
        "    print(\"Enter the measurements of the iris flower:\")\n",
        "    sepal_length = float(input(\"Sepal Length (cm): \"))\n",
        "    sepal_width = float(input(\"Sepal Width (cm): \"))\n",
        "    petal_length = float(input(\"Petal Length (cm): \"))\n",
        "    petal_width = float(input(\"Petal Width (cm): \"))\n",
        "\n",
        "    user_input_df = pd.DataFrame([[sepal_length, sepal_width, petal_length, petal_width]],\n",
        "                                  columns=['SepalLengthCm', 'SepalWidthCm', 'PetalLengthCm', 'PetalWidthCm'])\n",
        "    return user_input_df\n",
        "\n",
        "# Predict species based on user input\n",
        "user_input = get_user_input()\n",
        "predicted_species = model.predict(user_input)\n",
        "\n",
        "print(f'The predicted species is: {predicted_species[0]}')\n"
      ]
    }
  ]
}